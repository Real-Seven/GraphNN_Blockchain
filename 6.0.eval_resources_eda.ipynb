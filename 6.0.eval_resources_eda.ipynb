{
 "cells": [
  {
   "cell_type": "code",
   "execution_count": 24,
   "metadata": {},
   "outputs": [],
   "source": [
    "\"\"\"\n",
    "Little analysis of the test/eval execution timings\n",
    "\"\"\"\n",
    "\n",
    "import pandas as pd\n",
    "import numpy as np\n",
    "\n",
    "def parseFile(filename):\n",
    "    with open(filename,'r') as f:\n",
    "        all=[]\n",
    "        for data in f:\n",
    "\n",
    "            info = data.split(',')\n",
    "\n",
    "            timing=float (info[-1])\n",
    "            #model=info[0][:-4].strip()\n",
    "            model=info[0]#[:-4].strip()\n",
    "          \n",
    "\n",
    "            all.append([timing,model])\n",
    "        return all\n",
    "    \n",
    "\n",
    "df1 = pd.DataFrame(parseFile('.\\\\data\\\\timings\\\\RandomForestorig.txt'))\n",
    "df2 =pd.DataFrame(parseFile('.\\\\data\\\\timings\\\\Logisticreps.txt'))\n",
    "df3 =pd.DataFrame(parseFile('.\\\\data\\\\timings\\\\Logisticorig.txt'))\n",
    "\n",
    "df = pd.concat([df1, df2,df3], ignore_index=True)\n",
    "\n",
    "colnames=['timing', 'model'] \n",
    "df.columns=colnames"
   ]
  },
  {
   "cell_type": "code",
   "execution_count": 25,
   "metadata": {},
   "outputs": [
    {
     "data": {
      "text/html": [
       "<div>\n",
       "<style scoped>\n",
       "    .dataframe tbody tr th:only-of-type {\n",
       "        vertical-align: middle;\n",
       "    }\n",
       "\n",
       "    .dataframe tbody tr th {\n",
       "        vertical-align: top;\n",
       "    }\n",
       "\n",
       "    .dataframe thead tr th {\n",
       "        text-align: left;\n",
       "    }\n",
       "\n",
       "    .dataframe thead tr:last-of-type th {\n",
       "        text-align: right;\n",
       "    }\n",
       "</style>\n",
       "<table border=\"1\" class=\"dataframe\">\n",
       "  <thead>\n",
       "    <tr>\n",
       "      <th></th>\n",
       "      <th colspan=\"5\" halign=\"left\">timing</th>\n",
       "    </tr>\n",
       "    <tr>\n",
       "      <th></th>\n",
       "      <th>count</th>\n",
       "      <th>mean</th>\n",
       "      <th>std</th>\n",
       "      <th>min</th>\n",
       "      <th>max</th>\n",
       "    </tr>\n",
       "    <tr>\n",
       "      <th>model</th>\n",
       "      <th></th>\n",
       "      <th></th>\n",
       "      <th></th>\n",
       "      <th></th>\n",
       "      <th></th>\n",
       "    </tr>\n",
       "  </thead>\n",
       "  <tbody>\n",
       "    <tr>\n",
       "      <th>Logisticorig</th>\n",
       "      <td>32</td>\n",
       "      <td>8.197188</td>\n",
       "      <td>0.853842</td>\n",
       "      <td>7.16</td>\n",
       "      <td>9.97</td>\n",
       "    </tr>\n",
       "    <tr>\n",
       "      <th>Logisticreps</th>\n",
       "      <td>32</td>\n",
       "      <td>3.499375</td>\n",
       "      <td>1.816915</td>\n",
       "      <td>1.76</td>\n",
       "      <td>10.81</td>\n",
       "    </tr>\n",
       "    <tr>\n",
       "      <th>RandomForestorig</th>\n",
       "      <td>32</td>\n",
       "      <td>132.789062</td>\n",
       "      <td>5.849133</td>\n",
       "      <td>124.81</td>\n",
       "      <td>146.39</td>\n",
       "    </tr>\n",
       "  </tbody>\n",
       "</table>\n",
       "</div>"
      ],
      "text/plain": [
       "                 timing                                      \n",
       "                  count        mean       std     min     max\n",
       "model                                                        \n",
       "Logisticorig         32    8.197188  0.853842    7.16    9.97\n",
       "Logisticreps         32    3.499375  1.816915    1.76   10.81\n",
       "RandomForestorig     32  132.789062  5.849133  124.81  146.39"
      ]
     },
     "execution_count": 25,
     "metadata": {},
     "output_type": "execute_result"
    }
   ],
   "source": [
    "evaluation_training_time_randomForest_original_Features=df[['model','timing']].groupby(['model']).agg(['count','mean', 'std', 'min', 'max'])\n",
    "evaluation_training_time_randomForest_original_Features"
   ]
  },
  {
   "cell_type": "code",
   "execution_count": 26,
   "metadata": {},
   "outputs": [
    {
     "data": {
      "text/plain": [
       "<Figure size 640x480 with 0 Axes>"
      ]
     },
     "metadata": {},
     "output_type": "display_data"
    }
   ],
   "source": [
    "import seaborn as sns\n",
    "#sns.set_theme(style=\"whitegrid\", palette=\"pastel\")\n",
    "sns.set_theme(style=\"whitegrid\") # , palette=\"muted\"\n",
    "sns.despine(left=True)"
   ]
  },
  {
   "cell_type": "code",
   "execution_count": 27,
   "metadata": {},
   "outputs": [
    {
     "name": "stderr",
     "output_type": "stream",
     "text": [
      "C:\\Users\\seven\\AppData\\Local\\Temp\\ipykernel_12084\\513782645.py:14: UserWarning: set_ticklabels() should only be used with a fixed number of ticks, i.e. after set_ticks() or using a FixedLocator.\n",
      "  ax.set_xticklabels([\"Logistic Orig\",\"Logistic Repss\" ,\"RandomForest Orig\"],\n"
     ]
    },
    {
     "data": {
      "text/plain": [
       "[]"
      ]
     },
     "execution_count": 27,
     "metadata": {},
     "output_type": "execute_result"
    },
    {
     "data": {
      "image/png": "[encoded data removed]",
      "text/plain": [
       "<Figure size 640x480 with 1 Axes>"
      ]
     },
     "metadata": {},
     "output_type": "display_data"
    }
   ],
   "source": [
    "data=df[['model','timing']]\n",
    "\n",
    " \n",
    "ax=sns.boxplot(x=\"model\",\n",
    "                y=\"timing\"\n",
    "                , data=data\n",
    "                , order=[\"Logisticorig\",\"Logisticreps\" , \"RandomForestorig\"]\n",
    "                , linewidth=0.5\n",
    "                )\n",
    "\n",
    "\n",
    "ax.set(xlabel='Downstream Model',ylabel='Timing')\n",
    "ax.set_title('Evaluation Time by Model')\n",
    "ax.set_xticklabels([\"Logistic Orig\",\"Logistic Repss\" ,\"RandomForest Orig\"],\n",
    "                    rotation=45, fontsize=8)\n",
    "ax.plot()"
   ]
  }
 ],
 "metadata": {
  "kernelspec": {
   "display_name": "311GIN_torch",
   "language": "python",
   "name": "python3"
  },
  "language_info": {
   "codemirror_mode": {
    "name": "ipython",
    "version": 3
   },
   "file_extension": ".py",
   "mimetype": "text/x-python",
   "name": "python",
   "nbconvert_exporter": "python",
   "pygments_lexer": "ipython3",
   "version": "3.11.6"
  }
 },
 "nbformat": 4,
 "nbformat_minor": 2
}
