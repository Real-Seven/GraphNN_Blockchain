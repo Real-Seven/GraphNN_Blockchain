{
 "cells": [
  {
   "cell_type": "code",
   "execution_count": 1,
   "metadata": {},
   "outputs": [
    {
     "data": {
      "text/html": [
       "<div>\n",
       "<style scoped>\n",
       "    .dataframe tbody tr th:only-of-type {\n",
       "        vertical-align: middle;\n",
       "    }\n",
       "\n",
       "    .dataframe tbody tr th {\n",
       "        vertical-align: top;\n",
       "    }\n",
       "\n",
       "    .dataframe thead th {\n",
       "        text-align: right;\n",
       "    }\n",
       "</style>\n",
       "<table border=\"1\" class=\"dataframe\">\n",
       "  <thead>\n",
       "    <tr style=\"text-align: right;\">\n",
       "      <th></th>\n",
       "      <th>timing</th>\n",
       "      <th>aug</th>\n",
       "      <th>model</th>\n",
       "    </tr>\n",
       "  </thead>\n",
       "  <tbody>\n",
       "    <tr>\n",
       "      <th>0</th>\n",
       "      <td>411.38</td>\n",
       "      <td>splitpc2</td>\n",
       "      <td>sage</td>\n",
       "    </tr>\n",
       "    <tr>\n",
       "      <th>1</th>\n",
       "      <td>329.72</td>\n",
       "      <td>splitpc2</td>\n",
       "      <td>gcn</td>\n",
       "    </tr>\n",
       "    <tr>\n",
       "      <th>2</th>\n",
       "      <td>665.04</td>\n",
       "      <td>splitpc2</td>\n",
       "      <td>gat</td>\n",
       "    </tr>\n",
       "    <tr>\n",
       "      <th>3</th>\n",
       "      <td>274.93</td>\n",
       "      <td>splitpc2</td>\n",
       "      <td>sage</td>\n",
       "    </tr>\n",
       "    <tr>\n",
       "      <th>4</th>\n",
       "      <td>308.75</td>\n",
       "      <td>splitpc2</td>\n",
       "      <td>gcn</td>\n",
       "    </tr>\n",
       "  </tbody>\n",
       "</table>\n",
       "</div>"
      ],
      "text/plain": [
       "   timing       aug model\n",
       "0  411.38  splitpc2  sage\n",
       "1  329.72  splitpc2   gcn\n",
       "2  665.04  splitpc2   gat\n",
       "3  274.93  splitpc2  sage\n",
       "4  308.75  splitpc2   gcn"
      ]
     },
     "execution_count": 1,
     "metadata": {},
     "output_type": "execute_result"
    }
   ],
   "source": [
    "\"\"\"\n",
    "Timings were recorded during the model trainings.\n",
    "This loads the results of that file and includes some\n",
    "Visualisation and T-test \n",
    "\"\"\"\n",
    "\n",
    "import pandas as pd\n",
    "import numpy as np\n",
    "\n",
    "def parseFile(filename):\n",
    "    with open(filename,'r') as f:\n",
    "        all=[]\n",
    "        for data in f:\n",
    "\n",
    "            info = data.split(',',7)\n",
    "\n",
    "            timing=float (info[-1])\n",
    "            \n",
    "            messyaug=info[0]\n",
    "            aug = messyaug.split(\"'\")[1]\n",
    "\n",
    "            messymodel  = info[6] \n",
    "            model = messymodel.split(\"'\")[1]\n",
    "          \n",
    "\n",
    "            all.append([timing,aug,model])\n",
    "        return all\n",
    "    \n",
    "\n",
    "df = pd.DataFrame(parseFile('.\\\\data\\\\timings\\\\EllipticTimingsALL.txt'))\n",
    "\n",
    "colnames=['timing','aug',  'model'] \n",
    "df.columns=colnames\n",
    "df.head()"
   ]
  },
  {
   "cell_type": "code",
   "execution_count": 2,
   "metadata": {},
   "outputs": [
    {
     "data": {
      "text/html": [
       "<div>\n",
       "<style scoped>\n",
       "    .dataframe tbody tr th:only-of-type {\n",
       "        vertical-align: middle;\n",
       "    }\n",
       "\n",
       "    .dataframe tbody tr th {\n",
       "        vertical-align: top;\n",
       "    }\n",
       "\n",
       "    .dataframe thead tr th {\n",
       "        text-align: left;\n",
       "    }\n",
       "\n",
       "    .dataframe thead tr:last-of-type th {\n",
       "        text-align: right;\n",
       "    }\n",
       "</style>\n",
       "<table border=\"1\" class=\"dataframe\">\n",
       "  <thead>\n",
       "    <tr>\n",
       "      <th></th>\n",
       "      <th colspan=\"5\" halign=\"left\">timing</th>\n",
       "    </tr>\n",
       "    <tr>\n",
       "      <th></th>\n",
       "      <th>count</th>\n",
       "      <th>mean</th>\n",
       "      <th>std</th>\n",
       "      <th>min</th>\n",
       "      <th>max</th>\n",
       "    </tr>\n",
       "    <tr>\n",
       "      <th>aug</th>\n",
       "      <th></th>\n",
       "      <th></th>\n",
       "      <th></th>\n",
       "      <th></th>\n",
       "      <th></th>\n",
       "    </tr>\n",
       "  </thead>\n",
       "  <tbody>\n",
       "    <tr>\n",
       "      <th>logarithmic</th>\n",
       "      <td>15</td>\n",
       "      <td>315.623333</td>\n",
       "      <td>167.858705</td>\n",
       "      <td>40.20</td>\n",
       "      <td>669.20</td>\n",
       "    </tr>\n",
       "    <tr>\n",
       "      <th>none</th>\n",
       "      <td>10</td>\n",
       "      <td>508.356000</td>\n",
       "      <td>168.659357</td>\n",
       "      <td>246.28</td>\n",
       "      <td>764.98</td>\n",
       "    </tr>\n",
       "    <tr>\n",
       "      <th>permute</th>\n",
       "      <td>18</td>\n",
       "      <td>450.431667</td>\n",
       "      <td>331.434853</td>\n",
       "      <td>210.32</td>\n",
       "      <td>1673.52</td>\n",
       "    </tr>\n",
       "    <tr>\n",
       "      <th>rotate</th>\n",
       "      <td>7</td>\n",
       "      <td>416.100000</td>\n",
       "      <td>309.348113</td>\n",
       "      <td>52.61</td>\n",
       "      <td>973.47</td>\n",
       "    </tr>\n",
       "    <tr>\n",
       "      <th>split</th>\n",
       "      <td>10</td>\n",
       "      <td>505.751000</td>\n",
       "      <td>185.157715</td>\n",
       "      <td>305.79</td>\n",
       "      <td>820.54</td>\n",
       "    </tr>\n",
       "    <tr>\n",
       "      <th>splitpc</th>\n",
       "      <td>9</td>\n",
       "      <td>880.594444</td>\n",
       "      <td>245.866428</td>\n",
       "      <td>669.12</td>\n",
       "      <td>1296.79</td>\n",
       "    </tr>\n",
       "    <tr>\n",
       "      <th>splitpc2</th>\n",
       "      <td>28</td>\n",
       "      <td>800.529286</td>\n",
       "      <td>586.970786</td>\n",
       "      <td>19.04</td>\n",
       "      <td>1981.82</td>\n",
       "    </tr>\n",
       "    <tr>\n",
       "      <th>zscore</th>\n",
       "      <td>10</td>\n",
       "      <td>458.837000</td>\n",
       "      <td>151.291708</td>\n",
       "      <td>257.97</td>\n",
       "      <td>678.25</td>\n",
       "    </tr>\n",
       "  </tbody>\n",
       "</table>\n",
       "</div>"
      ],
      "text/plain": [
       "            timing                                         \n",
       "             count        mean         std     min      max\n",
       "aug                                                        \n",
       "logarithmic     15  315.623333  167.858705   40.20   669.20\n",
       "none            10  508.356000  168.659357  246.28   764.98\n",
       "permute         18  450.431667  331.434853  210.32  1673.52\n",
       "rotate           7  416.100000  309.348113   52.61   973.47\n",
       "split           10  505.751000  185.157715  305.79   820.54\n",
       "splitpc          9  880.594444  245.866428  669.12  1296.79\n",
       "splitpc2        28  800.529286  586.970786   19.04  1981.82\n",
       "zscore          10  458.837000  151.291708  257.97   678.25"
      ]
     },
     "execution_count": 2,
     "metadata": {},
     "output_type": "execute_result"
    }
   ],
   "source": [
    "model_training_time_by_aug=df[['aug','timing']].groupby(['aug']).agg(['count','mean', 'std', 'min', 'max'])\n",
    "model_training_time_by_aug"
   ]
  },
  {
   "cell_type": "code",
   "execution_count": 3,
   "metadata": {},
   "outputs": [],
   "source": [
    "from scipy.stats import ttest_ind,shapiro"
   ]
  },
  {
   "cell_type": "code",
   "execution_count": 4,
   "metadata": {},
   "outputs": [
    {
     "data": {
      "text/plain": [
       "TtestResult(statistic=2.866544347795099, pvalue=0.006275050666618752, df=45.304638984348834)"
      ]
     },
     "execution_count": 4,
     "metadata": {},
     "output_type": "execute_result"
    }
   ],
   "source": [
    "small_df=df[['aug','timing','model']]\n",
    "group1 = small_df[small_df['aug'].str.startswith('split')]\n",
    "group2 = small_df[small_df['aug']=='permute' ]\n",
    "\n",
    "ttest_ind(group1['timing'], group2['timing'], equal_var=False)"
   ]
  },
  {
   "cell_type": "code",
   "execution_count": null,
   "metadata": {},
   "outputs": [],
   "source": [
    "small_df=df[['aug','timing','model']]\n",
    "# Condition for 'model' column to equal 'amodel'\n",
    "condition1 = small_df['model'] == 'sage'\n",
    "condition1a = small_df['model'] == 'gat'\n",
    "condition2 = small_df['aug'].str.startswith('split')\n",
    "\n",
    "group1 = df[condition1 & condition2]\n",
    "group2 = df[condition1a & condition2]\n",
    "# group1 = small_df[small_df['model']=='sage']\n",
    "# group2 = small_df[small_df['model']=='gat' ]\n",
    "\n",
    "ttest_ind(group1['ill_f1_val'], group2['ill_f1_val'], equal_var=False)"
   ]
  },
  {
   "cell_type": "code",
   "execution_count": 12,
   "metadata": {},
   "outputs": [
    {
     "name": "stdout",
     "output_type": "stream",
     "text": [
      "      timing                                        \n",
      "       count        mean         std    min      max\n",
      "model                                               \n",
      "gat       42  714.308333  460.394247  37.09  1981.82\n",
      "gcn       32  512.291250  344.527441  19.04  1413.22\n",
      "sage      33  437.277576  326.576173  40.20  1322.02\n"
     ]
    }
   ],
   "source": [
    "model_training_time_by_model=df[['model','timing']].groupby(['model']).agg(['count','mean', 'std', 'min', 'max'])\n",
    "print(model_training_time_by_model)"
   ]
  },
  {
   "cell_type": "code",
   "execution_count": 13,
   "metadata": {},
   "outputs": [
    {
     "name": "stdout",
     "output_type": "stream",
     "text": [
      "                  timing                                           \n",
      "                   count         mean         std      min      max\n",
      "aug         model                                                  \n",
      "logarithmic gat        4   453.647500  143.747326   378.34   669.20\n",
      "            gcn        6   332.403333  150.495157   148.88   506.66\n",
      "            sage       5   185.068000  118.450639    40.20   354.19\n",
      "none        gat        6   602.928333  113.252045   482.32   764.98\n",
      "            gcn        2   363.800000  166.198378   246.28   481.32\n",
      "            sage       2   369.195000  173.417938   246.57   491.82\n",
      "permute     gat        6   589.426667  550.263419   210.32  1673.52\n",
      "            gcn        6   387.675000  142.350056   249.07   535.56\n",
      "            sage       6   374.193333  124.695987   259.31   505.01\n",
      "rotate      gat        2   557.165000  107.218601   481.35   632.98\n",
      "            gcn        2   635.220000  478.357737   296.97   973.47\n",
      "            sage       3   175.976667  111.919866    52.61   271.00\n",
      "split       gat        6   588.695000  192.466312   410.42   820.54\n",
      "            gcn        2   390.800000  105.104352   316.48   465.12\n",
      "            sage       2   371.870000   93.451232   305.79   437.95\n",
      "splitpc     gat        3  1200.080000   87.889556  1125.08  1296.79\n",
      "            gcn        3   753.873333   24.389377   731.64   779.96\n",
      "            sage       3   687.830000   23.466970   669.12   714.16\n",
      "splitpc2    gat        9  1070.573333  713.827698    37.09  1981.82\n",
      "            gcn        9   697.965556  532.749335    19.04  1413.22\n",
      "            sage      10   649.797000  468.718361   205.99  1322.02\n",
      "zscore      gat        6   525.055000  150.238961   385.52   678.25\n",
      "            gcn        2   374.950000  107.664079   298.82   451.08\n",
      "            sage       2   344.070000  121.763788   257.97   430.17\n"
     ]
    }
   ],
   "source": [
    "timebyAugModel=df[['aug','model','timing']].groupby(['aug','model']).agg(['count','mean', 'std', 'min', 'max'])\n",
    "print(timebyAugModel)"
   ]
  },
  {
   "cell_type": "code",
   "execution_count": 14,
   "metadata": {},
   "outputs": [
    {
     "data": {
      "text/plain": [
       "<Figure size 640x480 with 0 Axes>"
      ]
     },
     "metadata": {},
     "output_type": "display_data"
    }
   ],
   "source": [
    "import seaborn as sns\n",
    "#sns.set_theme(style=\"whitegrid\", palette=\"pastel\")\n",
    "sns.set_theme(style=\"whitegrid\") # , palette=\"muted\"\n",
    "sns.despine(left=True)"
   ]
  },
  {
   "cell_type": "code",
   "execution_count": 16,
   "metadata": {},
   "outputs": [
    {
     "name": "stderr",
     "output_type": "stream",
     "text": [
      "C:\\Users\\seven\\AppData\\Local\\Temp\\ipykernel_18648\\1413985675.py:14: UserWarning: set_ticklabels() should only be used with a fixed number of ticks, i.e. after set_ticks() or using a FixedLocator.\n",
      "  ax.set_xticklabels([  \"Split 50/50\", \"Split 70/30\",\"Split 75/25\", \"None\", \"Z-Score\",\"Log X\",\"Permute\", \"Rotate\"],\n"
     ]
    },
    {
     "data": {
      "text/plain": [
       "[]"
      ]
     },
     "execution_count": 16,
     "metadata": {},
     "output_type": "execute_result"
    },
    {
     "data": {
      "image/png": "[encoded data removed]",
      "text/plain": [
       "<Figure size 640x480 with 1 Axes>"
      ]
     },
     "metadata": {},
     "output_type": "display_data"
    }
   ],
   "source": [
    "data=df[['aug','timing']]\n",
    "\n",
    " \n",
    "ax=sns.boxplot(x=\"aug\",\n",
    "                y=\"timing\"\n",
    "                , data=data\n",
    "                , order=[\"split\", \"splitpc\",\"splitpc2\",\"none\", \"zscore\",\"logarithmic\",\"permute\", \"rotate\"]\n",
    "                , linewidth=0.5\n",
    "                )\n",
    "\n",
    "\n",
    "ax.set(xlabel='Augmentation',ylabel='Timing')\n",
    "ax.set_title('Training Time by Augmentation')\n",
    "ax.set_xticklabels([  \"Split 50/50\", \"Split 70/30\",\"Split 75/25\", \"None\", \"Z-Score\",\"Log X\",\"Permute\", \"Rotate\"],\n",
    "                    rotation=45, fontsize=8)\n",
    "ax.plot()"
   ]
  }
 ],
 "metadata": {
  "kernelspec": {
   "display_name": "311GIN_torch",
   "language": "python",
   "name": "python3"
  },
  "language_info": {
   "codemirror_mode": {
    "name": "ipython",
    "version": 3
   },
   "file_extension": ".py",
   "mimetype": "text/x-python",
   "name": "python",
   "nbconvert_exporter": "python",
   "pygments_lexer": "ipython3",
   "version": "3.11.6"
  }
 },
 "nbformat": 4,
 "nbformat_minor": 2
}
