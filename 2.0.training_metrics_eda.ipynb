{
 "cells": [
  {
   "cell_type": "code",
   "execution_count": 5,
   "metadata": {},
   "outputs": [
    {
     "name": "stderr",
     "output_type": "stream",
     "text": [
      "C:\\Users\\seven\\AppData\\Local\\Temp\\ipykernel_5400\\1990552151.py:24: DeprecationWarning: string or file could not be read to its end due to unmatched data; this will raise a ValueError in the future.\n",
      "  validationgmetrics=np.fromstring(metrics[1].strip(\")\"), dtype=float, sep=',')\n"
     ]
    }
   ],
   "source": [
    "\"\"\"\n",
    "The results of the training are saved to a results file.\n",
    "This notbook parses the file(s) to extract the \n",
    "training and validation scores for the best model\n",
    "from each combination of hyper-parameters.\n",
    "This is very much a scratchpad.\n",
    "It includes visualisation of the training results and some T-tests.\n",
    "\"\"\"\n",
    "\n",
    "import pandas as pd\n",
    "import numpy as np\n",
    "\n",
    "def parseFile(filename):\n",
    "    with open(filename,'r') as f:\n",
    "        all=[]\n",
    "        for data in f:\n",
    "\n",
    "            info = data.split('.',14)\n",
    "            aug=  info[1]\n",
    "            dropout = float (info[3] +'.' + info[4])\n",
    "            epochs = int (info[6])\n",
    "            layers =  info[8]\n",
    "            lr =  float (info[10] +'.' + info[11])\n",
    "            model = info[13] \n",
    "            the_rest=info[14] \n",
    "            results=the_rest.split(',',2)\n",
    "            best_epoch = results[1]\n",
    "            metrics=results[2].split('),(',)\n",
    "            #trainingmetrics=np.array(metrics[0].strip(\"()\"))\n",
    "            trainingmetrics=np.fromstring(metrics[0].strip(\"(\"), dtype=float, sep=',')\n",
    "           \n",
    "            #validationgmetrics=np.array(metrics[1].strip(\"()\"))\n",
    "            validationgmetrics=np.fromstring(metrics[1].strip(\")\"), dtype=float, sep=',')\n",
    "            # print (np.fromstring(metrics[0].strip(\"()\"), dtype=float, sep=','))\n",
    "            # print (np.fromstring(metrics[1].strip(\"()\"), dtype=float, sep=','))\n",
    "            # break\n",
    "\n",
    "            line = data.split(',',2)\n",
    "            modelid=line[0]\n",
    "            filename=modelid + '.ep.'+best_epoch +'.pt'\n",
    "            \n",
    "\n",
    "            all.append([aug,dropout,epochs,layers,lr,model,best_epoch,trainingmetrics,validationgmetrics,modelid,filename])\n",
    "        return all\n",
    "    \n",
    "\n",
    "df = pd.DataFrame(parseFile('.\\\\data\\\\result\\\\FULL_training_results_v3.txt'))\n",
    "\n",
    "colnames=['aug', 'dropout', 'epochs', 'layers', 'lr', 'model','best_epoch','trainrest', 'valres','modelid','filename'] \n",
    "df.columns=colnames\n",
    "#print(df)\n",
    "# Now split the metrics\n",
    "# Would have been easier if I had used json dictionaries from the very outset.\n",
    "traincolumns = ['ill_f1','ill_f1_std','microf1','micro_std','prec','prec_std', 'recal','recalstd']\n",
    "valcolumns = ['ill_f1_val','ill_f1_std_val','microf1_val','micro_std_val','prec_val','prec_std_val', 'recal_val','recalstd_val']\n",
    "\n",
    "# Splitting arrays into separate columns with specified column names\n",
    "df= pd.concat([df.drop('trainrest', axis=1), df['trainrest'].apply(lambda x: pd.Series(x, index=traincolumns))], axis=1).copy()\n",
    "df= pd.concat([df.drop('valres', axis=1), df['valres'].apply(lambda x: pd.Series(x, index=valcolumns))], axis=1).copy()\n",
    "\n",
    "pd.set_option('display.max_colwidth', None)\n"
   ]
  },
  {
   "cell_type": "code",
   "execution_count": 6,
   "metadata": {},
   "outputs": [
    {
     "data": {
      "text/html": [
       "<div>\n",
       "<style scoped>\n",
       "    .dataframe tbody tr th:only-of-type {\n",
       "        vertical-align: middle;\n",
       "    }\n",
       "\n",
       "    .dataframe tbody tr th {\n",
       "        vertical-align: top;\n",
       "    }\n",
       "\n",
       "    .dataframe thead tr th {\n",
       "        text-align: left;\n",
       "    }\n",
       "\n",
       "    .dataframe thead tr:last-of-type th {\n",
       "        text-align: right;\n",
       "    }\n",
       "</style>\n",
       "<table border=\"1\" class=\"dataframe\">\n",
       "  <thead>\n",
       "    <tr>\n",
       "      <th></th>\n",
       "      <th colspan=\"5\" halign=\"left\">ill_f1_val</th>\n",
       "    </tr>\n",
       "    <tr>\n",
       "      <th></th>\n",
       "      <th>count</th>\n",
       "      <th>mean</th>\n",
       "      <th>std</th>\n",
       "      <th>min</th>\n",
       "      <th>max</th>\n",
       "    </tr>\n",
       "    <tr>\n",
       "      <th>aug</th>\n",
       "      <th></th>\n",
       "      <th></th>\n",
       "      <th></th>\n",
       "      <th></th>\n",
       "      <th></th>\n",
       "    </tr>\n",
       "  </thead>\n",
       "  <tbody>\n",
       "    <tr>\n",
       "      <th>logarithmic</th>\n",
       "      <td>13</td>\n",
       "      <td>0.491798</td>\n",
       "      <td>0.132477</td>\n",
       "      <td>0.241431</td>\n",
       "      <td>0.646578</td>\n",
       "    </tr>\n",
       "    <tr>\n",
       "      <th>none</th>\n",
       "      <td>18</td>\n",
       "      <td>0.358653</td>\n",
       "      <td>0.128654</td>\n",
       "      <td>0.171818</td>\n",
       "      <td>0.552305</td>\n",
       "    </tr>\n",
       "    <tr>\n",
       "      <th>permute</th>\n",
       "      <td>18</td>\n",
       "      <td>0.328302</td>\n",
       "      <td>0.154826</td>\n",
       "      <td>0.128870</td>\n",
       "      <td>0.578842</td>\n",
       "    </tr>\n",
       "    <tr>\n",
       "      <th>rotate</th>\n",
       "      <td>7</td>\n",
       "      <td>0.525098</td>\n",
       "      <td>0.104911</td>\n",
       "      <td>0.367671</td>\n",
       "      <td>0.634654</td>\n",
       "    </tr>\n",
       "    <tr>\n",
       "      <th>split</th>\n",
       "      <td>18</td>\n",
       "      <td>0.756003</td>\n",
       "      <td>0.049915</td>\n",
       "      <td>0.686615</td>\n",
       "      <td>0.829403</td>\n",
       "    </tr>\n",
       "    <tr>\n",
       "      <th>splitpc</th>\n",
       "      <td>9</td>\n",
       "      <td>0.763407</td>\n",
       "      <td>0.049830</td>\n",
       "      <td>0.709259</td>\n",
       "      <td>0.830576</td>\n",
       "    </tr>\n",
       "    <tr>\n",
       "      <th>splitpc2</th>\n",
       "      <td>28</td>\n",
       "      <td>0.756391</td>\n",
       "      <td>0.059846</td>\n",
       "      <td>0.654569</td>\n",
       "      <td>0.841086</td>\n",
       "    </tr>\n",
       "    <tr>\n",
       "      <th>zscore</th>\n",
       "      <td>18</td>\n",
       "      <td>0.321788</td>\n",
       "      <td>0.158478</td>\n",
       "      <td>0.064490</td>\n",
       "      <td>0.563569</td>\n",
       "    </tr>\n",
       "  </tbody>\n",
       "</table>\n",
       "</div>"
      ],
      "text/plain": [
       "            ill_f1_val                                        \n",
       "                 count      mean       std       min       max\n",
       "aug                                                           \n",
       "logarithmic         13  0.491798  0.132477  0.241431  0.646578\n",
       "none                18  0.358653  0.128654  0.171818  0.552305\n",
       "permute             18  0.328302  0.154826  0.128870  0.578842\n",
       "rotate               7  0.525098  0.104911  0.367671  0.634654\n",
       "split               18  0.756003  0.049915  0.686615  0.829403\n",
       "splitpc              9  0.763407  0.049830  0.709259  0.830576\n",
       "splitpc2            28  0.756391  0.059846  0.654569  0.841086\n",
       "zscore              18  0.321788  0.158478  0.064490  0.563569"
      ]
     },
     "execution_count": 6,
     "metadata": {},
     "output_type": "execute_result"
    }
   ],
   "source": [
    "score_by_aug=df[['aug','ill_f1_val']].groupby(['aug']).agg(['count','mean', 'std', 'min', 'max'])#.map('{:,.5f}'.format)\n",
    "score_by_aug"
   ]
  },
  {
   "cell_type": "code",
   "execution_count": 7,
   "metadata": {},
   "outputs": [
    {
     "data": {
      "text/html": [
       "<div>\n",
       "<style scoped>\n",
       "    .dataframe tbody tr th:only-of-type {\n",
       "        vertical-align: middle;\n",
       "    }\n",
       "\n",
       "    .dataframe tbody tr th {\n",
       "        vertical-align: top;\n",
       "    }\n",
       "\n",
       "    .dataframe thead tr th {\n",
       "        text-align: left;\n",
       "    }\n",
       "\n",
       "    .dataframe thead tr:last-of-type th {\n",
       "        text-align: right;\n",
       "    }\n",
       "</style>\n",
       "<table border=\"1\" class=\"dataframe\">\n",
       "  <thead>\n",
       "    <tr>\n",
       "      <th></th>\n",
       "      <th colspan=\"5\" halign=\"left\">ill_f1_val</th>\n",
       "    </tr>\n",
       "    <tr>\n",
       "      <th></th>\n",
       "      <th>count</th>\n",
       "      <th>mean</th>\n",
       "      <th>std</th>\n",
       "      <th>min</th>\n",
       "      <th>max</th>\n",
       "    </tr>\n",
       "    <tr>\n",
       "      <th>model</th>\n",
       "      <th></th>\n",
       "      <th></th>\n",
       "      <th></th>\n",
       "      <th></th>\n",
       "      <th></th>\n",
       "    </tr>\n",
       "  </thead>\n",
       "  <tbody>\n",
       "    <tr>\n",
       "      <th>gat</th>\n",
       "      <td>42</td>\n",
       "      <td>0.546856</td>\n",
       "      <td>0.206207</td>\n",
       "      <td>0.161970</td>\n",
       "      <td>0.757137</td>\n",
       "    </tr>\n",
       "    <tr>\n",
       "      <th>gcn</th>\n",
       "      <td>42</td>\n",
       "      <td>0.455640</td>\n",
       "      <td>0.226153</td>\n",
       "      <td>0.117334</td>\n",
       "      <td>0.728233</td>\n",
       "    </tr>\n",
       "    <tr>\n",
       "      <th>sage</th>\n",
       "      <td>45</td>\n",
       "      <td>0.617317</td>\n",
       "      <td>0.214732</td>\n",
       "      <td>0.064490</td>\n",
       "      <td>0.841086</td>\n",
       "    </tr>\n",
       "  </tbody>\n",
       "</table>\n",
       "</div>"
      ],
      "text/plain": [
       "      ill_f1_val                                        \n",
       "           count      mean       std       min       max\n",
       "model                                                   \n",
       "gat           42  0.546856  0.206207  0.161970  0.757137\n",
       "gcn           42  0.455640  0.226153  0.117334  0.728233\n",
       "sage          45  0.617317  0.214732  0.064490  0.841086"
      ]
     },
     "execution_count": 7,
     "metadata": {},
     "output_type": "execute_result"
    }
   ],
   "source": [
    "score_by_model=df[['model','ill_f1_val']].groupby(['model']).agg(['count','mean', 'std', 'min', 'max'])\n",
    "score_by_model"
   ]
  },
  {
   "cell_type": "code",
   "execution_count": 8,
   "metadata": {},
   "outputs": [
    {
     "data": {
      "text/html": [
       "<div>\n",
       "<style scoped>\n",
       "    .dataframe tbody tr th:only-of-type {\n",
       "        vertical-align: middle;\n",
       "    }\n",
       "\n",
       "    .dataframe tbody tr th {\n",
       "        vertical-align: top;\n",
       "    }\n",
       "\n",
       "    .dataframe thead tr th {\n",
       "        text-align: left;\n",
       "    }\n",
       "\n",
       "    .dataframe thead tr:last-of-type th {\n",
       "        text-align: right;\n",
       "    }\n",
       "</style>\n",
       "<table border=\"1\" class=\"dataframe\">\n",
       "  <thead>\n",
       "    <tr>\n",
       "      <th></th>\n",
       "      <th></th>\n",
       "      <th colspan=\"5\" halign=\"left\">ill_f1_val</th>\n",
       "    </tr>\n",
       "    <tr>\n",
       "      <th></th>\n",
       "      <th></th>\n",
       "      <th>count</th>\n",
       "      <th>mean</th>\n",
       "      <th>std</th>\n",
       "      <th>min</th>\n",
       "      <th>max</th>\n",
       "    </tr>\n",
       "    <tr>\n",
       "      <th>aug</th>\n",
       "      <th>model</th>\n",
       "      <th></th>\n",
       "      <th></th>\n",
       "      <th></th>\n",
       "      <th></th>\n",
       "      <th></th>\n",
       "    </tr>\n",
       "  </thead>\n",
       "  <tbody>\n",
       "    <tr>\n",
       "      <th rowspan=\"3\" valign=\"top\">logarithmic</th>\n",
       "      <th>gat</th>\n",
       "      <td>4</td>\n",
       "      <td>0.529255</td>\n",
       "      <td>0.094531</td>\n",
       "      <td>0.408923</td>\n",
       "      <td>0.615759</td>\n",
       "    </tr>\n",
       "    <tr>\n",
       "      <th>gcn</th>\n",
       "      <td>4</td>\n",
       "      <td>0.335053</td>\n",
       "      <td>0.095426</td>\n",
       "      <td>0.241431</td>\n",
       "      <td>0.446782</td>\n",
       "    </tr>\n",
       "    <tr>\n",
       "      <th>sage</th>\n",
       "      <td>5</td>\n",
       "      <td>0.587230</td>\n",
       "      <td>0.041989</td>\n",
       "      <td>0.553758</td>\n",
       "      <td>0.646578</td>\n",
       "    </tr>\n",
       "    <tr>\n",
       "      <th rowspan=\"3\" valign=\"top\">none</th>\n",
       "      <th>gat</th>\n",
       "      <td>6</td>\n",
       "      <td>0.342294</td>\n",
       "      <td>0.144260</td>\n",
       "      <td>0.171818</td>\n",
       "      <td>0.481666</td>\n",
       "    </tr>\n",
       "    <tr>\n",
       "      <th>gcn</th>\n",
       "      <td>6</td>\n",
       "      <td>0.264871</td>\n",
       "      <td>0.057353</td>\n",
       "      <td>0.194636</td>\n",
       "      <td>0.317122</td>\n",
       "    </tr>\n",
       "    <tr>\n",
       "      <th>sage</th>\n",
       "      <td>6</td>\n",
       "      <td>0.468794</td>\n",
       "      <td>0.082118</td>\n",
       "      <td>0.370444</td>\n",
       "      <td>0.552305</td>\n",
       "    </tr>\n",
       "    <tr>\n",
       "      <th rowspan=\"3\" valign=\"top\">permute</th>\n",
       "      <th>gat</th>\n",
       "      <td>6</td>\n",
       "      <td>0.355611</td>\n",
       "      <td>0.194883</td>\n",
       "      <td>0.161970</td>\n",
       "      <td>0.578842</td>\n",
       "    </tr>\n",
       "    <tr>\n",
       "      <th>gcn</th>\n",
       "      <td>6</td>\n",
       "      <td>0.232281</td>\n",
       "      <td>0.080311</td>\n",
       "      <td>0.128870</td>\n",
       "      <td>0.305083</td>\n",
       "    </tr>\n",
       "    <tr>\n",
       "      <th>sage</th>\n",
       "      <td>6</td>\n",
       "      <td>0.397014</td>\n",
       "      <td>0.139455</td>\n",
       "      <td>0.186848</td>\n",
       "      <td>0.547179</td>\n",
       "    </tr>\n",
       "    <tr>\n",
       "      <th rowspan=\"3\" valign=\"top\">rotate</th>\n",
       "      <th>gat</th>\n",
       "      <td>2</td>\n",
       "      <td>0.583032</td>\n",
       "      <td>0.004517</td>\n",
       "      <td>0.579839</td>\n",
       "      <td>0.586226</td>\n",
       "    </tr>\n",
       "    <tr>\n",
       "      <th>gcn</th>\n",
       "      <td>2</td>\n",
       "      <td>0.380938</td>\n",
       "      <td>0.018763</td>\n",
       "      <td>0.367671</td>\n",
       "      <td>0.394205</td>\n",
       "    </tr>\n",
       "    <tr>\n",
       "      <th>sage</th>\n",
       "      <td>3</td>\n",
       "      <td>0.582582</td>\n",
       "      <td>0.061138</td>\n",
       "      <td>0.515264</td>\n",
       "      <td>0.634654</td>\n",
       "    </tr>\n",
       "    <tr>\n",
       "      <th rowspan=\"3\" valign=\"top\">split</th>\n",
       "      <th>gat</th>\n",
       "      <td>6</td>\n",
       "      <td>0.738269</td>\n",
       "      <td>0.012968</td>\n",
       "      <td>0.723756</td>\n",
       "      <td>0.757137</td>\n",
       "    </tr>\n",
       "    <tr>\n",
       "      <th>gcn</th>\n",
       "      <td>6</td>\n",
       "      <td>0.709538</td>\n",
       "      <td>0.016702</td>\n",
       "      <td>0.686615</td>\n",
       "      <td>0.728233</td>\n",
       "    </tr>\n",
       "    <tr>\n",
       "      <th>sage</th>\n",
       "      <td>6</td>\n",
       "      <td>0.820201</td>\n",
       "      <td>0.010498</td>\n",
       "      <td>0.804123</td>\n",
       "      <td>0.829403</td>\n",
       "    </tr>\n",
       "    <tr>\n",
       "      <th rowspan=\"3\" valign=\"top\">splitpc</th>\n",
       "      <th>gat</th>\n",
       "      <td>3</td>\n",
       "      <td>0.748470</td>\n",
       "      <td>0.006537</td>\n",
       "      <td>0.744176</td>\n",
       "      <td>0.755994</td>\n",
       "    </tr>\n",
       "    <tr>\n",
       "      <th>gcn</th>\n",
       "      <td>3</td>\n",
       "      <td>0.715071</td>\n",
       "      <td>0.005065</td>\n",
       "      <td>0.709259</td>\n",
       "      <td>0.718542</td>\n",
       "    </tr>\n",
       "    <tr>\n",
       "      <th>sage</th>\n",
       "      <td>3</td>\n",
       "      <td>0.826679</td>\n",
       "      <td>0.004434</td>\n",
       "      <td>0.821855</td>\n",
       "      <td>0.830576</td>\n",
       "    </tr>\n",
       "    <tr>\n",
       "      <th rowspan=\"3\" valign=\"top\">splitpc2</th>\n",
       "      <th>gat</th>\n",
       "      <td>9</td>\n",
       "      <td>0.737252</td>\n",
       "      <td>0.014767</td>\n",
       "      <td>0.713095</td>\n",
       "      <td>0.755416</td>\n",
       "    </tr>\n",
       "    <tr>\n",
       "      <th>gcn</th>\n",
       "      <td>9</td>\n",
       "      <td>0.694032</td>\n",
       "      <td>0.016814</td>\n",
       "      <td>0.654569</td>\n",
       "      <td>0.705668</td>\n",
       "    </tr>\n",
       "    <tr>\n",
       "      <th>sage</th>\n",
       "      <td>10</td>\n",
       "      <td>0.829738</td>\n",
       "      <td>0.008187</td>\n",
       "      <td>0.817788</td>\n",
       "      <td>0.841086</td>\n",
       "    </tr>\n",
       "    <tr>\n",
       "      <th rowspan=\"3\" valign=\"top\">zscore</th>\n",
       "      <th>gat</th>\n",
       "      <td>6</td>\n",
       "      <td>0.364521</td>\n",
       "      <td>0.124927</td>\n",
       "      <td>0.215111</td>\n",
       "      <td>0.514383</td>\n",
       "    </tr>\n",
       "    <tr>\n",
       "      <th>gcn</th>\n",
       "      <td>6</td>\n",
       "      <td>0.233856</td>\n",
       "      <td>0.083129</td>\n",
       "      <td>0.117334</td>\n",
       "      <td>0.316572</td>\n",
       "    </tr>\n",
       "    <tr>\n",
       "      <th>sage</th>\n",
       "      <td>6</td>\n",
       "      <td>0.366986</td>\n",
       "      <td>0.221255</td>\n",
       "      <td>0.064490</td>\n",
       "      <td>0.563569</td>\n",
       "    </tr>\n",
       "  </tbody>\n",
       "</table>\n",
       "</div>"
      ],
      "text/plain": [
       "                  ill_f1_val                                        \n",
       "                       count      mean       std       min       max\n",
       "aug         model                                                   \n",
       "logarithmic gat            4  0.529255  0.094531  0.408923  0.615759\n",
       "            gcn            4  0.335053  0.095426  0.241431  0.446782\n",
       "            sage           5  0.587230  0.041989  0.553758  0.646578\n",
       "none        gat            6  0.342294  0.144260  0.171818  0.481666\n",
       "            gcn            6  0.264871  0.057353  0.194636  0.317122\n",
       "            sage           6  0.468794  0.082118  0.370444  0.552305\n",
       "permute     gat            6  0.355611  0.194883  0.161970  0.578842\n",
       "            gcn            6  0.232281  0.080311  0.128870  0.305083\n",
       "            sage           6  0.397014  0.139455  0.186848  0.547179\n",
       "rotate      gat            2  0.583032  0.004517  0.579839  0.586226\n",
       "            gcn            2  0.380938  0.018763  0.367671  0.394205\n",
       "            sage           3  0.582582  0.061138  0.515264  0.634654\n",
       "split       gat            6  0.738269  0.012968  0.723756  0.757137\n",
       "            gcn            6  0.709538  0.016702  0.686615  0.728233\n",
       "            sage           6  0.820201  0.010498  0.804123  0.829403\n",
       "splitpc     gat            3  0.748470  0.006537  0.744176  0.755994\n",
       "            gcn            3  0.715071  0.005065  0.709259  0.718542\n",
       "            sage           3  0.826679  0.004434  0.821855  0.830576\n",
       "splitpc2    gat            9  0.737252  0.014767  0.713095  0.755416\n",
       "            gcn            9  0.694032  0.016814  0.654569  0.705668\n",
       "            sage          10  0.829738  0.008187  0.817788  0.841086\n",
       "zscore      gat            6  0.364521  0.124927  0.215111  0.514383\n",
       "            gcn            6  0.233856  0.083129  0.117334  0.316572\n",
       "            sage           6  0.366986  0.221255  0.064490  0.563569"
      ]
     },
     "execution_count": 8,
     "metadata": {},
     "output_type": "execute_result"
    }
   ],
   "source": [
    "scorebyAugModel=df[['aug','model','ill_f1_val']].groupby(['aug','model']).agg(['count','mean', 'std', 'min', 'max'])\n",
    "scorebyAugModel"
   ]
  },
  {
   "cell_type": "code",
   "execution_count": 9,
   "metadata": {},
   "outputs": [
    {
     "data": {
      "text/plain": [
       "<Figure size 640x480 with 0 Axes>"
      ]
     },
     "metadata": {},
     "output_type": "display_data"
    }
   ],
   "source": [
    "import seaborn as sns\n",
    "#sns.set_theme(style=\"whitegrid\", palette=\"pastel\")\n",
    "sns.set_theme(style=\"whitegrid\") # , palette=\"muted\"\n",
    "sns.despine(left=True)"
   ]
  },
  {
   "cell_type": "code",
   "execution_count": 10,
   "metadata": {},
   "outputs": [
    {
     "name": "stderr",
     "output_type": "stream",
     "text": [
      "C:\\Users\\seven\\AppData\\Local\\Temp\\ipykernel_5400\\3929539960.py:14: UserWarning: set_ticklabels() should only be used with a fixed number of ticks, i.e. after set_ticks() or using a FixedLocator.\n",
      "  ax.set_xticklabels([  \"Split 50/50\", \"Split 70/30\",\"Split 75/25\", \"None\", \"Z-Score\",\"Log X\",\"Permute\", \"Rotate\"],\n"
     ]
    },
    {
     "data": {
      "text/plain": [
       "[]"
      ]
     },
     "execution_count": 10,
     "metadata": {},
     "output_type": "execute_result"
    },
    {
     "data": {
      "image/png": "[encoded data removed]",
      "text/plain": [
       "<Figure size 640x480 with 1 Axes>"
      ]
     },
     "metadata": {},
     "output_type": "display_data"
    }
   ],
   "source": [
    "data=df[['aug','ill_f1_val']]\n",
    "\n",
    " \n",
    "ax=sns.boxplot(x=\"aug\",\n",
    "                y=\"ill_f1_val\"\n",
    "                , data=data\n",
    "                , order=[\"split\", \"splitpc\",\"splitpc2\",\"none\", \"zscore\",\"logarithmic\",\"permute\", \"rotate\"]\n",
    "                , linewidth=0.5\n",
    "                )\n",
    "\n",
    "\n",
    "ax.set(xlabel='Augmentation',ylabel='Illicit F1')\n",
    "ax.set_title('Validation Score by Augmentation')\n",
    "ax.set_xticklabels([  \"Split 50/50\", \"Split 70/30\",\"Split 75/25\", \"None\", \"Z-Score\",\"Log X\",\"Permute\", \"Rotate\"],\n",
    "                    rotation=45, fontsize=8)\n",
    "ax.plot()"
   ]
  },
  {
   "cell_type": "code",
   "execution_count": 8,
   "metadata": {},
   "outputs": [
    {
     "name": "stderr",
     "output_type": "stream",
     "text": [
      "C:\\Users\\seven\\AppData\\Local\\Temp\\ipykernel_4332\\3253473547.py:15: UserWarning: set_ticklabels() should only be used with a fixed number of ticks, i.e. after set_ticks() or using a FixedLocator.\n",
      "  ax.set_xticklabels([  \"Split 50/50\", \"Split 70/30\",\"Split 75/25\", \"None\", \"Z-Score\",\"Log X\",\"Permute\", \"Rotate\"],\n"
     ]
    },
    {
     "data": {
      "text/plain": [
       "[]"
      ]
     },
     "execution_count": 8,
     "metadata": {},
     "output_type": "execute_result"
    },
    {
     "data": {
      "image/png": "[encoded data removed]",
      "text/plain": [
       "<Figure size 640x480 with 1 Axes>"
      ]
     },
     "metadata": {},
     "output_type": "display_data"
    }
   ],
   "source": [
    "ax=sns.boxplot(x=\"aug\",\n",
    "                y=\"ill_f1_val\"\n",
    "                , data=df\n",
    "                , order=[\"split\", \"splitpc\",\"splitpc2\",\"none\", \"zscore\",\"logarithmic\",\"permute\", \"rotate\"]\n",
    "                , linewidth=0.5\n",
    "                , hue='model'\n",
    "                , palette=\"muted\"\n",
    "                )\n",
    "\n",
    "\n",
    "ax.set(xlabel='Augmentation',ylabel='Illicit F1')\n",
    "ax.set_title('Validation Score by Augmentation and Model')\n",
    "\n",
    "\n",
    "ax.set_xticklabels([  \"Split 50/50\", \"Split 70/30\",\"Split 75/25\", \"None\", \"Z-Score\",\"Log X\",\"Permute\", \"Rotate\"],\n",
    "                    rotation=45, fontsize=8)\n",
    "ax.plot()"
   ]
  },
  {
   "cell_type": "code",
   "execution_count": 9,
   "metadata": {},
   "outputs": [
    {
     "data": {
      "text/html": [
       "<div>\n",
       "<style scoped>\n",
       "    .dataframe tbody tr th:only-of-type {\n",
       "        vertical-align: middle;\n",
       "    }\n",
       "\n",
       "    .dataframe tbody tr th {\n",
       "        vertical-align: top;\n",
       "    }\n",
       "\n",
       "    .dataframe thead tr th {\n",
       "        text-align: left;\n",
       "    }\n",
       "\n",
       "    .dataframe thead tr:last-of-type th {\n",
       "        text-align: right;\n",
       "    }\n",
       "</style>\n",
       "<table border=\"1\" class=\"dataframe\">\n",
       "  <thead>\n",
       "    <tr>\n",
       "      <th></th>\n",
       "      <th colspan=\"5\" halign=\"left\">ill_f1_val</th>\n",
       "    </tr>\n",
       "    <tr>\n",
       "      <th></th>\n",
       "      <th>count</th>\n",
       "      <th>mean</th>\n",
       "      <th>max</th>\n",
       "      <th>min</th>\n",
       "      <th>std</th>\n",
       "    </tr>\n",
       "    <tr>\n",
       "      <th>layers</th>\n",
       "      <th></th>\n",
       "      <th></th>\n",
       "      <th></th>\n",
       "      <th></th>\n",
       "      <th></th>\n",
       "    </tr>\n",
       "  </thead>\n",
       "  <tbody>\n",
       "    <tr>\n",
       "      <th>128128</th>\n",
       "      <td>18</td>\n",
       "      <td>0.655059</td>\n",
       "      <td>0.841086</td>\n",
       "      <td>0.394205</td>\n",
       "      <td>0.133688</td>\n",
       "    </tr>\n",
       "    <tr>\n",
       "      <th>3232</th>\n",
       "      <td>54</td>\n",
       "      <td>0.443752</td>\n",
       "      <td>0.827309</td>\n",
       "      <td>0.064490</td>\n",
       "      <td>0.252487</td>\n",
       "    </tr>\n",
       "    <tr>\n",
       "      <th>6464</th>\n",
       "      <td>57</td>\n",
       "      <td>0.598779</td>\n",
       "      <td>0.832405</td>\n",
       "      <td>0.277507</td>\n",
       "      <td>0.180327</td>\n",
       "    </tr>\n",
       "  </tbody>\n",
       "</table>\n",
       "</div>"
      ],
      "text/plain": [
       "       ill_f1_val                                        \n",
       "            count      mean       max       min       std\n",
       "layers                                                   \n",
       "128128         18  0.655059  0.841086  0.394205  0.133688\n",
       "3232           54  0.443752  0.827309  0.064490  0.252487\n",
       "6464           57  0.598779  0.832405  0.277507  0.180327"
      ]
     },
     "execution_count": 9,
     "metadata": {},
     "output_type": "execute_result"
    }
   ],
   "source": [
    "score_by_layer_epoch=df[['layers','ill_f1_val']].groupby(['layers']).agg(['count','mean','max', 'min','std'])\n",
    "\n",
    "score_by_layer_epoch\n"
   ]
  },
  {
   "cell_type": "code",
   "execution_count": 10,
   "metadata": {},
   "outputs": [
    {
     "data": {
      "text/html": [
       "<div>\n",
       "<style scoped>\n",
       "    .dataframe tbody tr th:only-of-type {\n",
       "        vertical-align: middle;\n",
       "    }\n",
       "\n",
       "    .dataframe tbody tr th {\n",
       "        vertical-align: top;\n",
       "    }\n",
       "\n",
       "    .dataframe thead th {\n",
       "        text-align: right;\n",
       "    }\n",
       "</style>\n",
       "<table border=\"1\" class=\"dataframe\">\n",
       "  <thead>\n",
       "    <tr style=\"text-align: right;\">\n",
       "      <th></th>\n",
       "      <th>modelid</th>\n",
       "      <th>model</th>\n",
       "      <th>aug</th>\n",
       "      <th>ill_f1_val</th>\n",
       "      <th>filename</th>\n",
       "    </tr>\n",
       "  </thead>\n",
       "  <tbody>\n",
       "    <tr>\n",
       "      <th>102</th>\n",
       "      <td>aug.splitpc2.dropout.0.5.epochs.150.layers.128128.lr.0.0001.model.sage.</td>\n",
       "      <td>sage</td>\n",
       "      <td>splitpc2</td>\n",
       "      <td>0.841086</td>\n",
       "      <td>aug.splitpc2.dropout.0.5.epochs.150.layers.128128.lr.0.0001.model.sage..ep.10.pt</td>\n",
       "    </tr>\n",
       "  </tbody>\n",
       "</table>\n",
       "</div>"
      ],
      "text/plain": [
       "                                                                     modelid  \\\n",
       "102  aug.splitpc2.dropout.0.5.epochs.150.layers.128128.lr.0.0001.model.sage.   \n",
       "\n",
       "    model       aug  ill_f1_val  \\\n",
       "102  sage  splitpc2    0.841086   \n",
       "\n",
       "                                                                             filename  \n",
       "102  aug.splitpc2.dropout.0.5.epochs.150.layers.128128.lr.0.0001.model.sage..ep.10.pt  "
      ]
     },
     "execution_count": 10,
     "metadata": {},
     "output_type": "execute_result"
    }
   ],
   "source": [
    "best_model_validaton=df[df.ill_f1_val == df.ill_f1_val.max()]\n",
    "pd.set_option('display.max_colwidth', None)\n",
    "best_model_validaton[['modelid','model','aug','ill_f1_val','filename']]"
   ]
  },
  {
   "cell_type": "code",
   "execution_count": 12,
   "metadata": {},
   "outputs": [
    {
     "data": {
      "text/html": [
       "<div>\n",
       "<style scoped>\n",
       "    .dataframe tbody tr th:only-of-type {\n",
       "        vertical-align: middle;\n",
       "    }\n",
       "\n",
       "    .dataframe tbody tr th {\n",
       "        vertical-align: top;\n",
       "    }\n",
       "\n",
       "    .dataframe thead th {\n",
       "        text-align: right;\n",
       "    }\n",
       "</style>\n",
       "<table border=\"1\" class=\"dataframe\">\n",
       "  <thead>\n",
       "    <tr style=\"text-align: right;\">\n",
       "      <th></th>\n",
       "      <th>modelid</th>\n",
       "      <th>model</th>\n",
       "      <th>aug</th>\n",
       "      <th>microf1_val</th>\n",
       "    </tr>\n",
       "  </thead>\n",
       "  <tbody>\n",
       "    <tr>\n",
       "      <th>102</th>\n",
       "      <td>aug.splitpc2.dropout.0.5.epochs.150.layers.128128.lr.0.0001.model.sage.</td>\n",
       "      <td>sage</td>\n",
       "      <td>splitpc2</td>\n",
       "      <td>0.955102</td>\n",
       "    </tr>\n",
       "  </tbody>\n",
       "</table>\n",
       "</div>"
      ],
      "text/plain": [
       "                                                                     modelid  \\\n",
       "102  aug.splitpc2.dropout.0.5.epochs.150.layers.128128.lr.0.0001.model.sage.   \n",
       "\n",
       "    model       aug  microf1_val  \n",
       "102  sage  splitpc2     0.955102  "
      ]
     },
     "execution_count": 12,
     "metadata": {},
     "output_type": "execute_result"
    }
   ],
   "source": [
    "best_model_accuracy_validaton=df[df.microf1_val == df.microf1_val.max()]\n",
    "best_model_accuracy_validaton[['modelid','model','aug','microf1_val']]\n"
   ]
  },
  {
   "cell_type": "code",
   "execution_count": 13,
   "metadata": {},
   "outputs": [
    {
     "data": {
      "text/html": [
       "<div>\n",
       "<style scoped>\n",
       "    .dataframe tbody tr th:only-of-type {\n",
       "        vertical-align: middle;\n",
       "    }\n",
       "\n",
       "    .dataframe tbody tr th {\n",
       "        vertical-align: top;\n",
       "    }\n",
       "\n",
       "    .dataframe thead th {\n",
       "        text-align: right;\n",
       "    }\n",
       "</style>\n",
       "<table border=\"1\" class=\"dataframe\">\n",
       "  <thead>\n",
       "    <tr style=\"text-align: right;\">\n",
       "      <th></th>\n",
       "      <th>modelid</th>\n",
       "      <th>model</th>\n",
       "      <th>aug</th>\n",
       "      <th>ill_f1</th>\n",
       "    </tr>\n",
       "  </thead>\n",
       "  <tbody>\n",
       "    <tr>\n",
       "      <th>72</th>\n",
       "      <td>aug.splitpc.dropout.0.5.epochs.150.layers.6464.lr.0.0001.model.sage.</td>\n",
       "      <td>sage</td>\n",
       "      <td>splitpc</td>\n",
       "      <td>0.844563</td>\n",
       "    </tr>\n",
       "  </tbody>\n",
       "</table>\n",
       "</div>"
      ],
      "text/plain": [
       "                                                                 modelid  \\\n",
       "72  aug.splitpc.dropout.0.5.epochs.150.layers.6464.lr.0.0001.model.sage.   \n",
       "\n",
       "   model      aug    ill_f1  \n",
       "72  sage  splitpc  0.844563  "
      ]
     },
     "execution_count": 13,
     "metadata": {},
     "output_type": "execute_result"
    }
   ],
   "source": [
    "best_model_train=df[df.ill_f1 == df.ill_f1.max()]\n",
    "best_model_train[['modelid','model','aug','ill_f1']]"
   ]
  },
  {
   "cell_type": "code",
   "execution_count": 18,
   "metadata": {},
   "outputs": [],
   "source": [
    "# underfitting=df[df.ill_f1 < df.ill_f1_val]\n",
    "# underfitting[['model','aug','ill_f1_val']].groupby(['model','aug']).agg(['count'])"
   ]
  },
  {
   "cell_type": "code",
   "execution_count": 15,
   "metadata": {},
   "outputs": [
    {
     "data": {
      "text/html": [
       "<div>\n",
       "<style scoped>\n",
       "    .dataframe tbody tr th:only-of-type {\n",
       "        vertical-align: middle;\n",
       "    }\n",
       "\n",
       "    .dataframe tbody tr th {\n",
       "        vertical-align: top;\n",
       "    }\n",
       "\n",
       "    .dataframe thead tr th {\n",
       "        text-align: left;\n",
       "    }\n",
       "\n",
       "    .dataframe thead tr:last-of-type th {\n",
       "        text-align: right;\n",
       "    }\n",
       "</style>\n",
       "<table border=\"1\" class=\"dataframe\">\n",
       "  <thead>\n",
       "    <tr>\n",
       "      <th></th>\n",
       "      <th></th>\n",
       "      <th colspan=\"4\" halign=\"left\">ill_f1</th>\n",
       "      <th colspan=\"4\" halign=\"left\">ill_f1_val</th>\n",
       "    </tr>\n",
       "    <tr>\n",
       "      <th></th>\n",
       "      <th></th>\n",
       "      <th>count</th>\n",
       "      <th>mean</th>\n",
       "      <th>max</th>\n",
       "      <th>std</th>\n",
       "      <th>count</th>\n",
       "      <th>mean</th>\n",
       "      <th>max</th>\n",
       "      <th>std</th>\n",
       "    </tr>\n",
       "    <tr>\n",
       "      <th>model</th>\n",
       "      <th>aug</th>\n",
       "      <th></th>\n",
       "      <th></th>\n",
       "      <th></th>\n",
       "      <th></th>\n",
       "      <th></th>\n",
       "      <th></th>\n",
       "      <th></th>\n",
       "      <th></th>\n",
       "    </tr>\n",
       "  </thead>\n",
       "  <tbody>\n",
       "    <tr>\n",
       "      <th rowspan=\"3\" valign=\"top\">sage</th>\n",
       "      <th>split</th>\n",
       "      <td>5</td>\n",
       "      <td>0.833106</td>\n",
       "      <td>0.844537</td>\n",
       "      <td>0.008173</td>\n",
       "      <td>5</td>\n",
       "      <td>0.821848</td>\n",
       "      <td>0.829403</td>\n",
       "      <td>0.010836</td>\n",
       "    </tr>\n",
       "    <tr>\n",
       "      <th>splitpc</th>\n",
       "      <td>3</td>\n",
       "      <td>0.843102</td>\n",
       "      <td>0.844563</td>\n",
       "      <td>0.001326</td>\n",
       "      <td>3</td>\n",
       "      <td>0.826679</td>\n",
       "      <td>0.830576</td>\n",
       "      <td>0.004434</td>\n",
       "    </tr>\n",
       "    <tr>\n",
       "      <th>zscore</th>\n",
       "      <td>2</td>\n",
       "      <td>0.212769</td>\n",
       "      <td>0.249079</td>\n",
       "      <td>0.051350</td>\n",
       "      <td>2</td>\n",
       "      <td>0.113395</td>\n",
       "      <td>0.162300</td>\n",
       "      <td>0.069162</td>\n",
       "    </tr>\n",
       "  </tbody>\n",
       "</table>\n",
       "</div>"
      ],
      "text/plain": [
       "              ill_f1                               ill_f1_val            \\\n",
       "               count      mean       max       std      count      mean   \n",
       "model aug                                                                 \n",
       "sage  split        5  0.833106  0.844537  0.008173          5  0.821848   \n",
       "      splitpc      3  0.843102  0.844563  0.001326          3  0.826679   \n",
       "      zscore       2  0.212769  0.249079  0.051350          2  0.113395   \n",
       "\n",
       "                                   \n",
       "                    max       std  \n",
       "model aug                          \n",
       "sage  split    0.829403  0.010836  \n",
       "      splitpc  0.830576  0.004434  \n",
       "      zscore   0.162300  0.069162  "
      ]
     },
     "execution_count": 15,
     "metadata": {},
     "output_type": "execute_result"
    }
   ],
   "source": [
    "#underfitting\n",
    "underfitting=df[df.ill_f1 >= df.ill_f1_val]\n",
    "underfitting[['model','aug','ill_f1','ill_f1_val']].groupby(['model','aug']).agg(['count','mean','max', 'std'])"
   ]
  },
  {
   "cell_type": "code",
   "execution_count": 16,
   "metadata": {},
   "outputs": [
    {
     "data": {
      "text/html": [
       "<div>\n",
       "<style scoped>\n",
       "    .dataframe tbody tr th:only-of-type {\n",
       "        vertical-align: middle;\n",
       "    }\n",
       "\n",
       "    .dataframe tbody tr th {\n",
       "        vertical-align: top;\n",
       "    }\n",
       "\n",
       "    .dataframe thead th {\n",
       "        text-align: right;\n",
       "    }\n",
       "</style>\n",
       "<table border=\"1\" class=\"dataframe\">\n",
       "  <thead>\n",
       "    <tr style=\"text-align: right;\">\n",
       "      <th></th>\n",
       "      <th>aug</th>\n",
       "      <th>dropout</th>\n",
       "      <th>epochs</th>\n",
       "      <th>layers</th>\n",
       "      <th>lr</th>\n",
       "      <th>model</th>\n",
       "      <th>best_epoch</th>\n",
       "      <th>modelid</th>\n",
       "      <th>filename</th>\n",
       "      <th>ill_f1</th>\n",
       "      <th>...</th>\n",
       "      <th>recal</th>\n",
       "      <th>recalstd</th>\n",
       "      <th>ill_f1_val</th>\n",
       "      <th>ill_f1_std_val</th>\n",
       "      <th>microf1_val</th>\n",
       "      <th>micro_std_val</th>\n",
       "      <th>prec_val</th>\n",
       "      <th>prec_std_val</th>\n",
       "      <th>recal_val</th>\n",
       "      <th>recalstd_val</th>\n",
       "    </tr>\n",
       "  </thead>\n",
       "  <tbody>\n",
       "  </tbody>\n",
       "</table>\n",
       "<p>0 rows × 25 columns</p>\n",
       "</div>"
      ],
      "text/plain": [
       "Empty DataFrame\n",
       "Columns: [aug, dropout, epochs, layers, lr, model, best_epoch, modelid, filename, ill_f1, ill_f1_std, microf1, micro_std, prec, prec_std, recal, recalstd, ill_f1_val, ill_f1_std_val, microf1_val, micro_std_val, prec_val, prec_std_val, recal_val, recalstd_val]\n",
       "Index: []\n",
       "\n",
       "[0 rows x 25 columns]"
      ]
     },
     "execution_count": 16,
     "metadata": {},
     "output_type": "execute_result"
    }
   ],
   "source": [
    "#perfect\n",
    "df[df.ill_f1 == df.ill_f1_val]"
   ]
  },
  {
   "cell_type": "code",
   "execution_count": 17,
   "metadata": {},
   "outputs": [
    {
     "data": {
      "text/html": [
       "<div>\n",
       "<style scoped>\n",
       "    .dataframe tbody tr th:only-of-type {\n",
       "        vertical-align: middle;\n",
       "    }\n",
       "\n",
       "    .dataframe tbody tr th {\n",
       "        vertical-align: top;\n",
       "    }\n",
       "\n",
       "    .dataframe thead th {\n",
       "        text-align: right;\n",
       "    }\n",
       "</style>\n",
       "<table border=\"1\" class=\"dataframe\">\n",
       "  <thead>\n",
       "    <tr style=\"text-align: right;\">\n",
       "      <th></th>\n",
       "      <th>filename</th>\n",
       "      <th>ill_f1_val</th>\n",
       "      <th>ill_f1</th>\n",
       "    </tr>\n",
       "  </thead>\n",
       "  <tbody>\n",
       "    <tr>\n",
       "      <th>102</th>\n",
       "      <td>aug.splitpc2.dropout.0.5.epochs.150.layers.128128.lr.0.0001.model.sage..ep.10.pt</td>\n",
       "      <td>0.841086</td>\n",
       "      <td>0.834912</td>\n",
       "    </tr>\n",
       "    <tr>\n",
       "      <th>96</th>\n",
       "      <td>aug.splitpc2.dropout.0.5.epochs.150.layers.128128.lr.0.0005.model.sage..ep.10.pt</td>\n",
       "      <td>0.838330</td>\n",
       "      <td>0.835746</td>\n",
       "    </tr>\n",
       "    <tr>\n",
       "      <th>99</th>\n",
       "      <td>aug.splitpc2.dropout.0.5.epochs.150.layers.128128.lr.0.001.model.sage..ep.10.pt</td>\n",
       "      <td>0.838165</td>\n",
       "      <td>0.833721</td>\n",
       "    </tr>\n",
       "    <tr>\n",
       "      <th>81</th>\n",
       "      <td>aug.splitpc2.dropout.0.5.epochs.100.layers.6464.lr.0.0001.model.sage..ep.20.pt</td>\n",
       "      <td>0.832405</td>\n",
       "      <td>0.827609</td>\n",
       "    </tr>\n",
       "    <tr>\n",
       "      <th>75</th>\n",
       "      <td>aug.splitpc2.dropout.0.5.epochs.100.layers.6464.lr.0.0005.model.sage..ep.40.pt</td>\n",
       "      <td>0.832338</td>\n",
       "      <td>0.825492</td>\n",
       "    </tr>\n",
       "    <tr>\n",
       "      <th>72</th>\n",
       "      <td>aug.splitpc.dropout.0.5.epochs.150.layers.6464.lr.0.0001.model.sage..ep.60.pt</td>\n",
       "      <td>0.830576</td>\n",
       "      <td>0.844563</td>\n",
       "    </tr>\n",
       "    <tr>\n",
       "      <th>2</th>\n",
       "      <td>aug.split.dropout.0.5.epochs.60.layers.6464.lr.0.001.model.sage..ep.10.pt</td>\n",
       "      <td>0.829403</td>\n",
       "      <td>0.844537</td>\n",
       "    </tr>\n",
       "    <tr>\n",
       "      <th>24</th>\n",
       "      <td>aug.split.dropout.0.5.epochs.100.layers.6464.lr.0.0001.model.sage..ep.20.pt</td>\n",
       "      <td>0.828790</td>\n",
       "      <td>0.835131</td>\n",
       "    </tr>\n",
       "    <tr>\n",
       "      <th>78</th>\n",
       "      <td>aug.splitpc2.dropout.0.5.epochs.100.layers.6464.lr.0.001.model.sage..ep.10.pt</td>\n",
       "      <td>0.828655</td>\n",
       "      <td>0.828413</td>\n",
       "    </tr>\n",
       "    <tr>\n",
       "      <th>0</th>\n",
       "      <td>aug.split.dropout.0.5.epochs.60.layers.6464.lr.0.0005.model.sage..ep.10.pt</td>\n",
       "      <td>0.828208</td>\n",
       "      <td>0.834363</td>\n",
       "    </tr>\n",
       "    <tr>\n",
       "      <th>69</th>\n",
       "      <td>aug.splitpc.dropout.0.5.epochs.150.layers.6464.lr.0.001.model.sage..ep.10.pt</td>\n",
       "      <td>0.827606</td>\n",
       "      <td>0.842767</td>\n",
       "    </tr>\n",
       "    <tr>\n",
       "      <th>84</th>\n",
       "      <td>aug.splitpc2.dropout.0.5.epochs.200.layers.3232.lr.0.0005.model.sage..ep.30.pt</td>\n",
       "      <td>0.827309</td>\n",
       "      <td>0.823727</td>\n",
       "    </tr>\n",
       "    <tr>\n",
       "      <th>66</th>\n",
       "      <td>aug.splitpc.dropout.0.5.epochs.150.layers.6464.lr.0.0005.model.sage..ep.10.pt</td>\n",
       "      <td>0.821855</td>\n",
       "      <td>0.841976</td>\n",
       "    </tr>\n",
       "    <tr>\n",
       "      <th>87</th>\n",
       "      <td>aug.splitpc2.dropout.0.5.epochs.150.layers.3232.lr.0.0005.model.sage..ep.10.pt</td>\n",
       "      <td>0.821293</td>\n",
       "      <td>0.812885</td>\n",
       "    </tr>\n",
       "    <tr>\n",
       "      <th>90</th>\n",
       "      <td>aug.splitpc2.dropout.0.5.epochs.150.layers.3232.lr.0.001.model.sage..ep.20.pt</td>\n",
       "      <td>0.820010</td>\n",
       "      <td>0.816222</td>\n",
       "    </tr>\n",
       "    <tr>\n",
       "      <th>6</th>\n",
       "      <td>aug.split.dropout.0.5.epochs.60.layers.3232.lr.0.001.model.sage..ep.10.pt</td>\n",
       "      <td>0.818717</td>\n",
       "      <td>0.829110</td>\n",
       "    </tr>\n",
       "    <tr>\n",
       "      <th>93</th>\n",
       "      <td>aug.splitpc2.dropout.0.5.epochs.150.layers.3232.lr.0.0001.model.sage..ep.140.pt</td>\n",
       "      <td>0.817788</td>\n",
       "      <td>0.814288</td>\n",
       "    </tr>\n",
       "    <tr>\n",
       "      <th>4</th>\n",
       "      <td>aug.split.dropout.0.5.epochs.60.layers.3232.lr.0.0005.model.sage..ep.30.pt</td>\n",
       "      <td>0.811968</td>\n",
       "      <td>0.808908</td>\n",
       "    </tr>\n",
       "    <tr>\n",
       "      <th>26</th>\n",
       "      <td>aug.split.dropout.0.5.epochs.100.layers.3232.lr.0.0001.model.sage..ep.100.pt</td>\n",
       "      <td>0.804123</td>\n",
       "      <td>0.822387</td>\n",
       "    </tr>\n",
       "    <tr>\n",
       "      <th>37</th>\n",
       "      <td>aug.split.dropout.0.5.epochs.100.layers.6464.lr.0.0001.model.gat..ep.10.pt</td>\n",
       "      <td>0.757137</td>\n",
       "      <td>0.669125</td>\n",
       "    </tr>\n",
       "  </tbody>\n",
       "</table>\n",
       "</div>"
      ],
      "text/plain": [
       "                                                                             filename  \\\n",
       "102  aug.splitpc2.dropout.0.5.epochs.150.layers.128128.lr.0.0001.model.sage..ep.10.pt   \n",
       "96   aug.splitpc2.dropout.0.5.epochs.150.layers.128128.lr.0.0005.model.sage..ep.10.pt   \n",
       "99    aug.splitpc2.dropout.0.5.epochs.150.layers.128128.lr.0.001.model.sage..ep.10.pt   \n",
       "81     aug.splitpc2.dropout.0.5.epochs.100.layers.6464.lr.0.0001.model.sage..ep.20.pt   \n",
       "75     aug.splitpc2.dropout.0.5.epochs.100.layers.6464.lr.0.0005.model.sage..ep.40.pt   \n",
       "72      aug.splitpc.dropout.0.5.epochs.150.layers.6464.lr.0.0001.model.sage..ep.60.pt   \n",
       "2           aug.split.dropout.0.5.epochs.60.layers.6464.lr.0.001.model.sage..ep.10.pt   \n",
       "24        aug.split.dropout.0.5.epochs.100.layers.6464.lr.0.0001.model.sage..ep.20.pt   \n",
       "78      aug.splitpc2.dropout.0.5.epochs.100.layers.6464.lr.0.001.model.sage..ep.10.pt   \n",
       "0          aug.split.dropout.0.5.epochs.60.layers.6464.lr.0.0005.model.sage..ep.10.pt   \n",
       "69       aug.splitpc.dropout.0.5.epochs.150.layers.6464.lr.0.001.model.sage..ep.10.pt   \n",
       "84     aug.splitpc2.dropout.0.5.epochs.200.layers.3232.lr.0.0005.model.sage..ep.30.pt   \n",
       "66      aug.splitpc.dropout.0.5.epochs.150.layers.6464.lr.0.0005.model.sage..ep.10.pt   \n",
       "87     aug.splitpc2.dropout.0.5.epochs.150.layers.3232.lr.0.0005.model.sage..ep.10.pt   \n",
       "90      aug.splitpc2.dropout.0.5.epochs.150.layers.3232.lr.0.001.model.sage..ep.20.pt   \n",
       "6           aug.split.dropout.0.5.epochs.60.layers.3232.lr.0.001.model.sage..ep.10.pt   \n",
       "93    aug.splitpc2.dropout.0.5.epochs.150.layers.3232.lr.0.0001.model.sage..ep.140.pt   \n",
       "4          aug.split.dropout.0.5.epochs.60.layers.3232.lr.0.0005.model.sage..ep.30.pt   \n",
       "26       aug.split.dropout.0.5.epochs.100.layers.3232.lr.0.0001.model.sage..ep.100.pt   \n",
       "37         aug.split.dropout.0.5.epochs.100.layers.6464.lr.0.0001.model.gat..ep.10.pt   \n",
       "\n",
       "     ill_f1_val    ill_f1  \n",
       "102    0.841086  0.834912  \n",
       "96     0.838330  0.835746  \n",
       "99     0.838165  0.833721  \n",
       "81     0.832405  0.827609  \n",
       "75     0.832338  0.825492  \n",
       "72     0.830576  0.844563  \n",
       "2      0.829403  0.844537  \n",
       "24     0.828790  0.835131  \n",
       "78     0.828655  0.828413  \n",
       "0      0.828208  0.834363  \n",
       "69     0.827606  0.842767  \n",
       "84     0.827309  0.823727  \n",
       "66     0.821855  0.841976  \n",
       "87     0.821293  0.812885  \n",
       "90     0.820010  0.816222  \n",
       "6      0.818717  0.829110  \n",
       "93     0.817788  0.814288  \n",
       "4      0.811968  0.808908  \n",
       "26     0.804123  0.822387  \n",
       "37     0.757137  0.669125  "
      ]
     },
     "execution_count": 17,
     "metadata": {},
     "output_type": "execute_result"
    }
   ],
   "source": [
    "#sort by calidation illicit f1, compare to training f1\n",
    "small_df=df[['filename','ill_f1_val','ill_f1']]\n",
    "small_df.sort_values(['ill_f1_val'], ascending=False).head(20)"
   ]
  },
  {
   "cell_type": "code",
   "execution_count": 23,
   "metadata": {},
   "outputs": [
    {
     "name": "stdout",
     "output_type": "stream",
     "text": [
      "ShapiroResult(statistic=0.8771564960479736, pvalue=0.00347743253223598)\n",
      "ShapiroResult(statistic=0.8735164403915405, pvalue=0.020341595634818077)\n"
     ]
    },
    {
     "data": {
      "text/plain": [
       "TtestResult(statistic=0.02377075386270795, pvalue=0.9811509837809795, df=40.92955118308529)"
      ]
     },
     "execution_count": 23,
     "metadata": {},
     "output_type": "execute_result"
    }
   ],
   "source": [
    "from scipy.stats import ttest_ind,shapiro\n",
    "\n",
    "small_df=df[['aug','ill_f1_val']]\n",
    "\n",
    "group1 = small_df[small_df['aug']=='splitpc2']\n",
    "group2 = small_df[small_df['aug']=='split']\n",
    "\n",
    "\n",
    "\n",
    "print(shapiro(group1['ill_f1_val']))\n",
    "print(shapiro(group2['ill_f1_val']))\n",
    "\n",
    "\n",
    "ttest_ind(group1['ill_f1_val'], group2['ill_f1_val'], equal_var=False)\n"
   ]
  },
  {
   "cell_type": "markdown",
   "metadata": {},
   "source": [
    "Since the p-value is  greater .05, we don' reject null hypothesis, no evidence to say they are not different"
   ]
  },
  {
   "cell_type": "code",
   "execution_count": 24,
   "metadata": {},
   "outputs": [
    {
     "name": "stdout",
     "output_type": "stream",
     "text": [
      "ShapiroResult(statistic=0.8771564960479736, pvalue=0.00347743253223598)\n",
      "ShapiroResult(statistic=0.8344207406044006, pvalue=0.05004623532295227)\n"
     ]
    },
    {
     "data": {
      "text/plain": [
       "TtestResult(statistic=-0.3491477205678537, pvalue=0.7314998668153678, df=16.111421151455172)"
      ]
     },
     "execution_count": 24,
     "metadata": {},
     "output_type": "execute_result"
    }
   ],
   "source": [
    "group1 = small_df[small_df['aug']=='splitpc2']\n",
    "group2 = small_df[small_df['aug']=='splitpc']\n",
    "\n",
    "print(shapiro(group1['ill_f1_val']))\n",
    "print(shapiro(group2['ill_f1_val']))\n",
    "\n",
    "ttest_ind(group1['ill_f1_val'], group2['ill_f1_val'], equal_var=False)"
   ]
  },
  {
   "cell_type": "markdown",
   "metadata": {},
   "source": [
    "Since the p-value is \n",
    " greater .05, we don't reject null hypothesis, no evidence to say they are not different"
   ]
  },
  {
   "cell_type": "code",
   "execution_count": 25,
   "metadata": {},
   "outputs": [
    {
     "name": "stdout",
     "output_type": "stream",
     "text": [
      "ShapiroResult(statistic=0.8735164403915405, pvalue=0.020341595634818077)\n",
      "ShapiroResult(statistic=0.8344207406044006, pvalue=0.05004623532295227)\n"
     ]
    },
    {
     "data": {
      "text/plain": [
       "TtestResult(statistic=-0.36375027039094004, pvalue=0.7207682365672348, df=16.130341270529176)"
      ]
     },
     "execution_count": 25,
     "metadata": {},
     "output_type": "execute_result"
    }
   ],
   "source": [
    "group1 = small_df[small_df['aug']=='split']\n",
    "group2 = small_df[small_df['aug']=='splitpc']\n",
    "\n",
    "print(shapiro(group1['ill_f1_val']))\n",
    "print(shapiro(group2['ill_f1_val']))\n",
    "\n",
    "ttest_ind(group1['ill_f1_val'], group2['ill_f1_val'], equal_var=False)"
   ]
  },
  {
   "cell_type": "code",
   "execution_count": 26,
   "metadata": {},
   "outputs": [
    {
     "data": {
      "text/plain": [
       "TtestResult(statistic=11.135567269136384, pvalue=4.6098339430194814e-10, df=20.153126364797593)"
      ]
     },
     "execution_count": 26,
     "metadata": {},
     "output_type": "execute_result"
    }
   ],
   "source": [
    "group1 = small_df[small_df['aug']=='splitpc2']\n",
    "group2 = small_df[small_df['aug']=='zscore']\n",
    "ttest_ind(group1['ill_f1_val'], group2['ill_f1_val'], equal_var=False)"
   ]
  },
  {
   "cell_type": "markdown",
   "metadata": {},
   "source": [
    "Since the p-value is less than .05, we reject the null hypothesis of the t-test and conclude that there is sufficient evidence to say that the two methods lead to different validation scores."
   ]
  },
  {
   "cell_type": "code",
   "execution_count": 27,
   "metadata": {},
   "outputs": [
    {
     "data": {
      "text/plain": [
       "TtestResult(statistic=6.882562065046396, pvalue=6.666619582165419e-06, df=14.324533407824186)"
      ]
     },
     "execution_count": 27,
     "metadata": {},
     "output_type": "execute_result"
    }
   ],
   "source": [
    "group1 = small_df[small_df['aug']=='splitpc2']\n",
    "group2 = small_df[small_df['aug']=='logarithmic']\n",
    "ttest_ind(group1['ill_f1_val'], group2['ill_f1_val'], equal_var=False)"
   ]
  },
  {
   "cell_type": "code",
   "execution_count": 32,
   "metadata": {},
   "outputs": [
    {
     "data": {
      "text/plain": [
       "TtestResult(statistic=0.6396734278900799, pvalue=0.5268148634417305, df=32.897261922849715)"
      ]
     },
     "execution_count": 32,
     "metadata": {},
     "output_type": "execute_result"
    }
   ],
   "source": [
    "group1 = small_df[small_df['aug']=='none']\n",
    "group2 = small_df[small_df['aug']=='permute']\n",
    "ttest_ind(group1['ill_f1_val'], group2['ill_f1_val'], equal_var=False)"
   ]
  },
  {
   "cell_type": "code",
   "execution_count": 31,
   "metadata": {},
   "outputs": [
    {
     "data": {
      "text/plain": [
       "TtestResult(statistic=0.7662274189981215, pvalue=0.4490502796360284, df=32.62203876830586)"
      ]
     },
     "execution_count": 31,
     "metadata": {},
     "output_type": "execute_result"
    }
   ],
   "source": [
    "group1 = small_df[small_df['aug']=='none']\n",
    "group2 = small_df[small_df['aug']=='zscore']\n",
    "ttest_ind(group1['ill_f1_val'], group2['ill_f1_val'], equal_var=False)"
   ]
  },
  {
   "cell_type": "code",
   "execution_count": 33,
   "metadata": {},
   "outputs": [
    {
     "data": {
      "text/plain": [
       "TtestResult(statistic=-3.3343139570111195, pvalue=0.005161356126533611, df=13.446813413887039)"
      ]
     },
     "execution_count": 33,
     "metadata": {},
     "output_type": "execute_result"
    }
   ],
   "source": [
    "group1 = small_df[small_df['aug']=='none']\n",
    "group2 = small_df[small_df['aug']=='rotate']\n",
    "ttest_ind(group1['ill_f1_val'], group2['ill_f1_val'], equal_var=False)"
   ]
  },
  {
   "cell_type": "code",
   "execution_count": 34,
   "metadata": {},
   "outputs": [
    {
     "data": {
      "text/plain": [
       "TtestResult(statistic=-2.794824749575981, pvalue=0.009715455223100996, df=25.547880177672194)"
      ]
     },
     "execution_count": 34,
     "metadata": {},
     "output_type": "execute_result"
    }
   ],
   "source": [
    "group1 = small_df[small_df['aug']=='none']\n",
    "group2 = small_df[small_df['aug']=='logarithmic']\n",
    "ttest_ind(group1['ill_f1_val'], group2['ill_f1_val'], equal_var=False)"
   ]
  },
  {
   "cell_type": "code",
   "execution_count": 35,
   "metadata": {},
   "outputs": [
    {
     "data": {
      "text/plain": [
       "TtestResult(statistic=6.882562065046396, pvalue=6.666619582165419e-06, df=14.324533407824186)"
      ]
     },
     "execution_count": 35,
     "metadata": {},
     "output_type": "execute_result"
    }
   ],
   "source": [
    "group1 = small_df[small_df['aug']=='splitpc2']\n",
    "group2 = small_df[small_df['aug']=='logarithmic']\n",
    "ttest_ind(group1['ill_f1_val'], group2['ill_f1_val'], equal_var=False)"
   ]
  },
  {
   "cell_type": "markdown",
   "metadata": {},
   "source": [
    "Since the p-value is less than .05, we reject the null hypothesis of the t-test and conclude that there is sufficient evidence to say that the two methods lead to different validation scores."
   ]
  },
  {
   "cell_type": "code",
   "execution_count": 42,
   "metadata": {},
   "outputs": [
    {
     "data": {
      "text/plain": [
       "TtestResult(statistic=23.042412639874044, pvalue=9.546995695361935e-21, df=30.261309629411365)"
      ]
     },
     "execution_count": 42,
     "metadata": {},
     "output_type": "execute_result"
    }
   ],
   "source": [
    "small_df=df[['model','aug','ill_f1_val']]\n",
    "# Condition for 'model' column to equal 'amodel'\n",
    "condition1 = small_df['model'] == 'sage'\n",
    "condition1a = small_df['model'] == 'gat'\n",
    "condition2 = small_df['aug'].str.startswith('split')\n",
    "\n",
    "group1 = df[condition1 & condition2]\n",
    "group2 = df[condition1a & condition2]\n",
    "# group1 = small_df[small_df['model']=='sage']\n",
    "# group2 = small_df[small_df['model']=='gat' ]\n",
    "\n",
    "ttest_ind(group1['ill_f1_val'], group2['ill_f1_val'], equal_var=False)"
   ]
  },
  {
   "cell_type": "code",
   "execution_count": 18,
   "metadata": {},
   "outputs": [
    {
     "data": {
      "text/plain": [
       "TtestResult(statistic=1.5611653719413772, pvalue=0.12220359823264441, df=84.92710644167947)"
      ]
     },
     "execution_count": 18,
     "metadata": {},
     "output_type": "execute_result"
    }
   ],
   "source": [
    "small_df=df[['model','ill_f1_val']]\n",
    "\n",
    "group1 = small_df[small_df['model']=='sage']\n",
    "group2 = small_df[small_df['model']=='gat']\n",
    "\n",
    "ttest_ind(group1['ill_f1_val'], group2['ill_f1_val'], equal_var=False)"
   ]
  },
  {
   "cell_type": "markdown",
   "metadata": {},
   "source": [
    "Since the p-value is NOT less than .05, we DO NOT reject the null hypothesis of the t-test and conclude that there is NOT sufficient evidence to say that the two methods lead to different validation scores."
   ]
  },
  {
   "cell_type": "code",
   "execution_count": 35,
   "metadata": {},
   "outputs": [
    {
     "data": {
      "text/plain": [
       "TtestResult(statistic=3.414235277332196, pvalue=0.0009880545529720845, df=83.76405545424673)"
      ]
     },
     "execution_count": 35,
     "metadata": {},
     "output_type": "execute_result"
    }
   ],
   "source": [
    "small_df=df[['model','ill_f1_val']]\n",
    "\n",
    "group1 = small_df[small_df['model']=='sage']\n",
    "group2 = small_df[small_df['model']=='gcn']\n",
    "\n",
    "ttest_ind(group1['ill_f1_val'], group2['ill_f1_val'], equal_var=False)"
   ]
  },
  {
   "cell_type": "markdown",
   "metadata": {},
   "source": [
    "Since the p-value is less than .05, we reject the null hypothesis of the t-test and conclude that there is sufficient evidence to say that the two methods lead to different validation scores."
   ]
  },
  {
   "cell_type": "code",
   "execution_count": 36,
   "metadata": {},
   "outputs": [
    {
     "data": {
      "text/plain": [
       "TtestResult(statistic=1.9315447134422339, pvalue=0.05689962532836524, df=81.31076115631457)"
      ]
     },
     "execution_count": 36,
     "metadata": {},
     "output_type": "execute_result"
    }
   ],
   "source": [
    "small_df=df[['model','ill_f1_val']]\n",
    "\n",
    "group1 = small_df[small_df['model']=='gat']\n",
    "group2 = small_df[small_df['model']=='gcn']\n",
    "\n",
    "ttest_ind(group1['ill_f1_val'], group2['ill_f1_val'], equal_var=False)"
   ]
  },
  {
   "cell_type": "code",
   "execution_count": null,
   "metadata": {},
   "outputs": [],
   "source": [
    "Table 5 – Table of results by augmentation type "
   ]
  },
  {
   "cell_type": "code",
   "execution_count": 40,
   "metadata": {},
   "outputs": [
    {
     "name": "stdout",
     "output_type": "stream",
     "text": [
      "ShapiroResult(statistic=0.8497707843780518, pvalue=6.167616811580956e-05)\n",
      "ShapiroResult(statistic=0.8209224939346313, pvalue=1.2762308870151173e-05)\n"
     ]
    }
   ],
   "source": [
    "from scipy import stats\n",
    "\n",
    "print(stats.shapiro(group1['ill_f1_val']))\n",
    "print(stats.shapiro(group2['ill_f1_val']))\n"
   ]
  }
 ],
 "metadata": {
  "kernelspec": {
   "display_name": "311GIN_torch",
   "language": "python",
   "name": "python3"
  },
  "language_info": {
   "codemirror_mode": {
    "name": "ipython",
    "version": 3
   },
   "file_extension": ".py",
   "mimetype": "text/x-python",
   "name": "python",
   "nbconvert_exporter": "python",
   "pygments_lexer": "ipython3",
   "version": "3.11.6"
  }
 },
 "nbformat": 4,
 "nbformat_minor": 2
}
