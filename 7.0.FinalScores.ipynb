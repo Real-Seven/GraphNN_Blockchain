{
 "cells": [
  {
   "cell_type": "code",
   "execution_count": 1,
   "metadata": {},
   "outputs": [
    {
     "name": "stdout",
     "output_type": "stream",
     "text": [
      "aug.splitpc2.dropout.0.5.epochs.150.layers.128128.lr.0.0001.model.sage..ep.10.pt\n"
     ]
    }
   ],
   "source": [
    "import pandas as pd\n",
    "from types import SimpleNamespace\n",
    "import utils\n",
    "import evaluator\n",
    "\n",
    "\n",
    "def parseFile(filename):\n",
    "    with open(filename,'r') as f:\n",
    "        all=[]\n",
    "        for data in f:\n",
    "            ## get model and epocc\n",
    "            line = data.split(',',2)\n",
    "            modelid=line[0]\n",
    "            best_epoch=line[1]\n",
    "\n",
    "            ## get params\n",
    "            info = data.split('.',14)\n",
    "            aug=  info[1]\n",
    "            dropout = float (info[3] +'.' + info[4])\n",
    "            epochs = int (info[6])\n",
    "            layers =  info[8] \n",
    "\n",
    "            a  = int(layers[:len(layers)//2])\n",
    "            b = int(layers[len(layers)//2:])\n",
    "            layer = [a,b]\n",
    "            lr =  float (info[10] +'.' + info[11])\n",
    "            model = info[13] \n",
    "\n",
    "            all.append([modelid,best_epoch,aug,dropout,epochs,layer,lr,model])\n",
    "        return all\n",
    "\n",
    "\n",
    "colnames=['modelid', 'best_epoch', 'aug', 'dropout', 'epochs', 'layers', 'lr', 'model'] \n",
    "df = pd.DataFrame(parseFile('.\\\\data\\\\result\\\\BEST_training_result.txt'))\n",
    "df.columns=colnames\n",
    "print(df.modelid[0]+'.ep.'+df.best_epoch[0]+'.pt')\n"
   ]
  },
  {
   "cell_type": "code",
   "execution_count": 2,
   "metadata": {},
   "outputs": [
    {
     "name": "stdout",
     "output_type": "stream",
     "text": [
      "aug.splitpc2.dropout.0.5.epochs.150.layers.128128.lr.0.0001.model.sage..ep.10.pt\n",
      "{'aug': 'splitpc2', 'dropout': 0.5, 'epochs': 150, 'layers': [128, 128], 'lr': 0.0001, 'model': 'sage'}\n",
      "aug.splitpc2.dropout.0.5.epochs.150.layers.128128.lr.0.0001.model.sage.\n",
      "Encoder(\n",
      "  (stacked_gnn): ModuleList(\n",
      "    (0): SAGEConv(24, 128, aggr=mean)\n",
      "    (1): SAGEConv(128, 128, aggr=mean)\n",
      "  )\n",
      "  (encoder_norm): Normalise(\n",
      "    (norm): BatchNorm1d(128, eps=1e-05, momentum=0.1, affine=True, track_running_stats=True)\n",
      "  )\n",
      "  (projection_head): Sequential(\n",
      "    (0): Linear(in_features=128, out_features=128, bias=True)\n",
      "    (1): Normalise(\n",
      "      (norm): BatchNorm1d(128, eps=1e-05, momentum=0.1, affine=True, track_running_stats=True)\n",
      "    )\n",
      "    (2): ReLU(inplace=True)\n",
      "    (3): Dropout(p=0.5, inplace=False)\n",
      "  )\n",
      ")\n",
      "ModelID:  aug.splitpc2.dropout.0.5.epochs.150.layers.128128.lr.0.0001.model.sage.\n"
     ]
    },
    {
     "name": "stderr",
     "output_type": "stream",
     "text": [
      "c:\\apps\\311GIN_torch\\Lib\\site-packages\\torch_geometric\\data\\in_memory_dataset.py:301: UserWarning: It is not recommended to directly access the internal storage format `data` of an 'InMemoryDataset'. If you are absolutely certain what you are doing, access the internal storage via `InMemoryDataset._data` instead to suppress this warning. Alternatively, you can access stacked individual attributes of every graph via `dataset.{attr_name}`.\n",
      "  warnings.warn(msg)\n"
     ]
    },
    {
     "name": "stdout",
     "output_type": "stream",
     "text": [
      "Logistic :: Reps f1: 0.27875 std: 0.00000  Reps acc: 0.92173 std: 0.00000 \n"
     ]
    }
   ],
   "source": [
    "for i, row in df.iterrows():\n",
    "    filename=row.modelid + '.ep.'+row.best_epoch +'.pt'\n",
    "    print(filename)\n",
    "    layers ='[]'\n",
    "    d={'aug': row.aug,'dropout': row.dropout, 'epochs': row.epochs, 'layers': row.layers, 'lr':row.lr, 'model': row.model   }\n",
    "    print (d)\n",
    "\n",
    "\n",
    "    args = SimpleNamespace(**d)\n",
    "    evaluator.final_evaluate(args, filename)"
   ]
  }
 ],
 "metadata": {
  "kernelspec": {
   "display_name": "311GIN_torch",
   "language": "python",
   "name": "python3"
  },
  "language_info": {
   "codemirror_mode": {
    "name": "ipython",
    "version": 3
   },
   "file_extension": ".py",
   "mimetype": "text/x-python",
   "name": "python",
   "nbconvert_exporter": "python",
   "pygments_lexer": "ipython3",
   "version": "3.11.6"
  }
 },
 "nbformat": 4,
 "nbformat_minor": 2
}
